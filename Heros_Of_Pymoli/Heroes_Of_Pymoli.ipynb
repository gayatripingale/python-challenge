{
 "cells": [
  {
   "cell_type": "markdown",
   "metadata": {},
   "source": [
    "## Heroes Of Pymoli Data Analysis ##\n",
    "* Trend 1: Number of male players exceeds the number of female players almost 5:1.(80%+ are males)\n",
    "* Trend 2: Players int the age group of 15 to 30 years spend far more than the players in any other age group.\n",
    "* Trend 3: Item ID 34 is the most profitable item, whereas Item ID 39 and 84 tied for the most purchased items.\n"
   ]
  },
  {
   "cell_type": "code",
   "execution_count": 647,
   "metadata": {
    "collapsed": true
   },
   "outputs": [],
   "source": [
    "# Import Dependencies\n",
    "import pandas as pd\n",
    "import numpy as np"
   ]
  },
  {
   "cell_type": "code",
   "execution_count": 648,
   "metadata": {
    "scrolled": true
   },
   "outputs": [
    {
     "data": {
      "text/html": [
       "<div>\n",
       "<style>\n",
       "    .dataframe thead tr:only-child th {\n",
       "        text-align: right;\n",
       "    }\n",
       "\n",
       "    .dataframe thead th {\n",
       "        text-align: left;\n",
       "    }\n",
       "\n",
       "    .dataframe tbody tr th {\n",
       "        vertical-align: top;\n",
       "    }\n",
       "</style>\n",
       "<table border=\"1\" class=\"dataframe\">\n",
       "  <thead>\n",
       "    <tr style=\"text-align: right;\">\n",
       "      <th></th>\n",
       "      <th>Age</th>\n",
       "      <th>Gender</th>\n",
       "      <th>Item ID</th>\n",
       "      <th>Item Name</th>\n",
       "      <th>Price</th>\n",
       "      <th>SN</th>\n",
       "    </tr>\n",
       "  </thead>\n",
       "  <tbody>\n",
       "    <tr>\n",
       "      <th>0</th>\n",
       "      <td>38</td>\n",
       "      <td>Male</td>\n",
       "      <td>165</td>\n",
       "      <td>Bone Crushing Silver Skewer</td>\n",
       "      <td>3.37</td>\n",
       "      <td>Aelalis34</td>\n",
       "    </tr>\n",
       "    <tr>\n",
       "      <th>1</th>\n",
       "      <td>21</td>\n",
       "      <td>Male</td>\n",
       "      <td>119</td>\n",
       "      <td>Stormbringer, Dark Blade of Ending Misery</td>\n",
       "      <td>2.32</td>\n",
       "      <td>Eolo46</td>\n",
       "    </tr>\n",
       "    <tr>\n",
       "      <th>2</th>\n",
       "      <td>34</td>\n",
       "      <td>Male</td>\n",
       "      <td>174</td>\n",
       "      <td>Primitive Blade</td>\n",
       "      <td>2.46</td>\n",
       "      <td>Assastnya25</td>\n",
       "    </tr>\n",
       "    <tr>\n",
       "      <th>3</th>\n",
       "      <td>21</td>\n",
       "      <td>Male</td>\n",
       "      <td>92</td>\n",
       "      <td>Final Critic</td>\n",
       "      <td>1.36</td>\n",
       "      <td>Pheusrical25</td>\n",
       "    </tr>\n",
       "    <tr>\n",
       "      <th>4</th>\n",
       "      <td>23</td>\n",
       "      <td>Male</td>\n",
       "      <td>63</td>\n",
       "      <td>Stormfury Mace</td>\n",
       "      <td>1.27</td>\n",
       "      <td>Aela59</td>\n",
       "    </tr>\n",
       "  </tbody>\n",
       "</table>\n",
       "</div>"
      ],
      "text/plain": [
       "   Age Gender  Item ID                                  Item Name  Price  \\\n",
       "0   38   Male      165                Bone Crushing Silver Skewer   3.37   \n",
       "1   21   Male      119  Stormbringer, Dark Blade of Ending Misery   2.32   \n",
       "2   34   Male      174                            Primitive Blade   2.46   \n",
       "3   21   Male       92                               Final Critic   1.36   \n",
       "4   23   Male       63                             Stormfury Mace   1.27   \n",
       "\n",
       "             SN  \n",
       "0     Aelalis34  \n",
       "1        Eolo46  \n",
       "2   Assastnya25  \n",
       "3  Pheusrical25  \n",
       "4        Aela59  "
      ]
     },
     "execution_count": 648,
     "metadata": {},
     "output_type": "execute_result"
    }
   ],
   "source": [
    "# Import purchase_data.json as a DataFrame\n",
    "purchase_df= pd.read_json('purchase_data.json')\n",
    "purchase_df.head()\n",
    "\n"
   ]
  },
  {
   "cell_type": "markdown",
   "metadata": {},
   "source": [
    "### Player Count ###\n"
   ]
  },
  {
   "cell_type": "code",
   "execution_count": 649,
   "metadata": {},
   "outputs": [
    {
     "data": {
      "text/plain": [
       "573"
      ]
     },
     "execution_count": 649,
     "metadata": {},
     "output_type": "execute_result"
    }
   ],
   "source": [
    "# Total Number of Players\n",
    "players= purchase_df[\"SN\"].unique()\n",
    "players_cnt = len(players)\n",
    "players_cnt\n"
   ]
  },
  {
   "cell_type": "code",
   "execution_count": 650,
   "metadata": {},
   "outputs": [
    {
     "data": {
      "text/html": [
       "<div>\n",
       "<style>\n",
       "    .dataframe thead tr:only-child th {\n",
       "        text-align: right;\n",
       "    }\n",
       "\n",
       "    .dataframe thead th {\n",
       "        text-align: left;\n",
       "    }\n",
       "\n",
       "    .dataframe tbody tr th {\n",
       "        vertical-align: top;\n",
       "    }\n",
       "</style>\n",
       "<table border=\"1\" class=\"dataframe\">\n",
       "  <thead>\n",
       "    <tr style=\"text-align: right;\">\n",
       "      <th></th>\n",
       "      <th>Total Plyers</th>\n",
       "    </tr>\n",
       "  </thead>\n",
       "  <tbody>\n",
       "    <tr>\n",
       "      <th>0</th>\n",
       "      <td>573</td>\n",
       "    </tr>\n",
       "  </tbody>\n",
       "</table>\n",
       "</div>"
      ],
      "text/plain": [
       "   Total Plyers\n",
       "0           573"
      ]
     },
     "execution_count": 650,
     "metadata": {},
     "output_type": "execute_result"
    }
   ],
   "source": [
    "# creating a Dataframe for Player Count\n",
    "player_df = pd.DataFrame([{\"Total Plyers\":players_cnt}])\n",
    "player_df"
   ]
  },
  {
   "cell_type": "markdown",
   "metadata": {},
   "source": [
    "### #Purchasing Analysis (Total) ####"
   ]
  },
  {
   "cell_type": "code",
   "execution_count": 651,
   "metadata": {
    "collapsed": true
   },
   "outputs": [],
   "source": [
    "# To find :\n",
    "# Number of Unique Items\n",
    "# Average Purchase Price\n",
    "# Total Number of Purchases\n",
    "# Total Revenue"
   ]
  },
  {
   "cell_type": "code",
   "execution_count": 652,
   "metadata": {},
   "outputs": [
    {
     "data": {
      "text/html": [
       "<div>\n",
       "<style>\n",
       "    .dataframe thead tr:only-child th {\n",
       "        text-align: right;\n",
       "    }\n",
       "\n",
       "    .dataframe thead th {\n",
       "        text-align: left;\n",
       "    }\n",
       "\n",
       "    .dataframe tbody tr th {\n",
       "        vertical-align: top;\n",
       "    }\n",
       "</style>\n",
       "<table border=\"1\" class=\"dataframe\">\n",
       "  <thead>\n",
       "    <tr style=\"text-align: right;\">\n",
       "      <th></th>\n",
       "      <th>Age</th>\n",
       "      <th>Gender</th>\n",
       "      <th>Item ID</th>\n",
       "      <th>Item Name</th>\n",
       "      <th>Price</th>\n",
       "      <th>SN</th>\n",
       "    </tr>\n",
       "  </thead>\n",
       "  <tbody>\n",
       "    <tr>\n",
       "      <th>17</th>\n",
       "      <td>22</td>\n",
       "      <td>Female</td>\n",
       "      <td>59</td>\n",
       "      <td>Lightning, Etcher of the King</td>\n",
       "      <td>1.65</td>\n",
       "      <td>Aenarap34</td>\n",
       "    </tr>\n",
       "    <tr>\n",
       "      <th>21</th>\n",
       "      <td>15</td>\n",
       "      <td>Male</td>\n",
       "      <td>3</td>\n",
       "      <td>Phantomlight</td>\n",
       "      <td>1.79</td>\n",
       "      <td>Iaralrgue74</td>\n",
       "    </tr>\n",
       "    <tr>\n",
       "      <th>59</th>\n",
       "      <td>15</td>\n",
       "      <td>Male</td>\n",
       "      <td>2</td>\n",
       "      <td>Verdict</td>\n",
       "      <td>3.40</td>\n",
       "      <td>Ila44</td>\n",
       "    </tr>\n",
       "    <tr>\n",
       "      <th>63</th>\n",
       "      <td>23</td>\n",
       "      <td>Male</td>\n",
       "      <td>28</td>\n",
       "      <td>Flux, Destroyer of Due Diligence</td>\n",
       "      <td>3.04</td>\n",
       "      <td>Ryanara76</td>\n",
       "    </tr>\n",
       "    <tr>\n",
       "      <th>88</th>\n",
       "      <td>23</td>\n",
       "      <td>Male</td>\n",
       "      <td>132</td>\n",
       "      <td>Persuasion</td>\n",
       "      <td>3.90</td>\n",
       "      <td>Undotesta33</td>\n",
       "    </tr>\n",
       "  </tbody>\n",
       "</table>\n",
       "</div>"
      ],
      "text/plain": [
       "    Age  Gender  Item ID                         Item Name  Price           SN\n",
       "17   22  Female       59     Lightning, Etcher of the King   1.65    Aenarap34\n",
       "21   15    Male        3                      Phantomlight   1.79  Iaralrgue74\n",
       "59   15    Male        2                           Verdict   3.40        Ila44\n",
       "63   23    Male       28  Flux, Destroyer of Due Diligence   3.04    Ryanara76\n",
       "88   23    Male      132                        Persuasion   3.90  Undotesta33"
      ]
     },
     "execution_count": 652,
     "metadata": {},
     "output_type": "execute_result"
    }
   ],
   "source": [
    "# Dropping Duplicates \n",
    "no_dup= purchase_df.drop_duplicates([\"Item ID\"], keep='last')\n",
    "no_dup.head()"
   ]
  },
  {
   "cell_type": "code",
   "execution_count": 653,
   "metadata": {},
   "outputs": [],
   "source": [
    "# Two wasys to count Number of Unique Items\n",
    "# 1. Using count() \n",
    "unique_cnt=no_dup[\"Item ID\"].count()"
   ]
  },
  {
   "cell_type": "code",
   "execution_count": 654,
   "metadata": {},
   "outputs": [
    {
     "data": {
      "text/plain": [
       "183"
      ]
     },
     "execution_count": 654,
     "metadata": {},
     "output_type": "execute_result"
    }
   ],
   "source": [
    "#Number of Unique Items\n",
    "# 2.using unique()\n",
    "num_unq_items = purchase_df[\"Item ID\"].unique()\n",
    "unique_items=len(num_unq_items)\n",
    "unique_items"
   ]
  },
  {
   "cell_type": "code",
   "execution_count": 655,
   "metadata": {},
   "outputs": [],
   "source": [
    "# Total Number of Purchases\n",
    "# You can find this by using count() function on any column. I am doing it on \"Item ID\" here\n",
    "\n",
    "total_pur = purchase_df[\"Item ID\"].count()"
   ]
  },
  {
   "cell_type": "code",
   "execution_count": 656,
   "metadata": {},
   "outputs": [
    {
     "data": {
      "text/plain": [
       "2286.33"
      ]
     },
     "execution_count": 656,
     "metadata": {},
     "output_type": "execute_result"
    }
   ],
   "source": [
    "# Total Revenue\n",
    "\n",
    "total_rev = round(purchase_df[\"Price\"].sum(),2)\n",
    "total_rev"
   ]
  },
  {
   "cell_type": "code",
   "execution_count": 657,
   "metadata": {},
   "outputs": [
    {
     "data": {
      "text/plain": [
       "2.9311923076923074"
      ]
     },
     "execution_count": 657,
     "metadata": {},
     "output_type": "execute_result"
    }
   ],
   "source": [
    "#Average Purchase Price\n",
    "\n",
    "avg_price = total_rev/total_pur\n",
    "avg_price"
   ]
  },
  {
   "cell_type": "code",
   "execution_count": 658,
   "metadata": {},
   "outputs": [
    {
     "data": {
      "text/html": [
       "<style  type=\"text/css\" >\n",
       "</style>  \n",
       "<table id=\"T_2b9e17b8_0fc2_11e8_97d9_a8667f3c136d\" > \n",
       "<thead>    <tr> \n",
       "        <th class=\"blank level0\" ></th> \n",
       "        <th class=\"col_heading level0 col0\" >Number of Unique Items</th> \n",
       "        <th class=\"col_heading level0 col1\" >Average Purchase Price</th> \n",
       "        <th class=\"col_heading level0 col2\" >Number of Purchases</th> \n",
       "        <th class=\"col_heading level0 col3\" >Total Revenue</th> \n",
       "    </tr></thead> \n",
       "<tbody>    <tr> \n",
       "        <th id=\"T_2b9e17b8_0fc2_11e8_97d9_a8667f3c136dlevel0_row0\" class=\"row_heading level0 row0\" >0</th> \n",
       "        <td id=\"T_2b9e17b8_0fc2_11e8_97d9_a8667f3c136drow0_col0\" class=\"data row0 col0\" >183</td> \n",
       "        <td id=\"T_2b9e17b8_0fc2_11e8_97d9_a8667f3c136drow0_col1\" class=\"data row0 col1\" >$2.93</td> \n",
       "        <td id=\"T_2b9e17b8_0fc2_11e8_97d9_a8667f3c136drow0_col2\" class=\"data row0 col2\" >780</td> \n",
       "        <td id=\"T_2b9e17b8_0fc2_11e8_97d9_a8667f3c136drow0_col3\" class=\"data row0 col3\" >$2,286.33</td> \n",
       "    </tr></tbody> \n",
       "</table> "
      ],
      "text/plain": [
       "<pandas.io.formats.style.Styler at 0x10a991c18>"
      ]
     },
     "execution_count": 658,
     "metadata": {},
     "output_type": "execute_result"
    }
   ],
   "source": [
    "# Creating Purchse Analysis DataFrame to get a quick review\n",
    "\n",
    "purchase_analysis_df = pd.DataFrame([{\n",
    "    \"Number of Unique Items\": unique_items,\n",
    "    \"Average Purchase Price\": round(avg_price,2),\n",
    "    \"Number of Purchases\": total_pur,\n",
    "    \"Total Revenue\": total_rev}],\n",
    "columns = [\"Number of Unique Items\",\"Average Purchase Price\",\"Number of Purchases\",\"Total Revenue\"])\n",
    "# Adding \"$\" symbol\n",
    "\n",
    "purchase_analysis_df.style.format({'Average Purchase Price': '${:.2f}', 'Total Revenue': '${:,.2f}'})"
   ]
  },
  {
   "cell_type": "markdown",
   "metadata": {
    "collapsed": true
   },
   "source": [
    " ### Gender Demographics ###\n",
    " "
   ]
  },
  {
   "cell_type": "code",
   "execution_count": 659,
   "metadata": {
    "collapsed": true
   },
   "outputs": [],
   "source": [
    "# In this we are finding:\n",
    "\n",
    "# Percentage and Count of Male Players\n",
    "# Percentage and Count of Female Players\n",
    "# Percentage and Count of Other / Non-Disclosed\n"
   ]
  },
  {
   "cell_type": "code",
   "execution_count": 660,
   "metadata": {},
   "outputs": [
    {
     "data": {
      "text/html": [
       "<div>\n",
       "<style>\n",
       "    .dataframe thead tr:only-child th {\n",
       "        text-align: right;\n",
       "    }\n",
       "\n",
       "    .dataframe thead th {\n",
       "        text-align: left;\n",
       "    }\n",
       "\n",
       "    .dataframe tbody tr th {\n",
       "        vertical-align: top;\n",
       "    }\n",
       "</style>\n",
       "<table border=\"1\" class=\"dataframe\">\n",
       "  <thead>\n",
       "    <tr style=\"text-align: right;\">\n",
       "      <th></th>\n",
       "      <th>Age</th>\n",
       "      <th>Gender</th>\n",
       "      <th>Item ID</th>\n",
       "      <th>Item Name</th>\n",
       "      <th>Price</th>\n",
       "      <th>SN</th>\n",
       "    </tr>\n",
       "  </thead>\n",
       "  <tbody>\n",
       "    <tr>\n",
       "      <th>0</th>\n",
       "      <td>38</td>\n",
       "      <td>Male</td>\n",
       "      <td>165</td>\n",
       "      <td>Bone Crushing Silver Skewer</td>\n",
       "      <td>3.37</td>\n",
       "      <td>Aelalis34</td>\n",
       "    </tr>\n",
       "    <tr>\n",
       "      <th>1</th>\n",
       "      <td>21</td>\n",
       "      <td>Male</td>\n",
       "      <td>119</td>\n",
       "      <td>Stormbringer, Dark Blade of Ending Misery</td>\n",
       "      <td>2.32</td>\n",
       "      <td>Eolo46</td>\n",
       "    </tr>\n",
       "    <tr>\n",
       "      <th>2</th>\n",
       "      <td>34</td>\n",
       "      <td>Male</td>\n",
       "      <td>174</td>\n",
       "      <td>Primitive Blade</td>\n",
       "      <td>2.46</td>\n",
       "      <td>Assastnya25</td>\n",
       "    </tr>\n",
       "    <tr>\n",
       "      <th>3</th>\n",
       "      <td>21</td>\n",
       "      <td>Male</td>\n",
       "      <td>92</td>\n",
       "      <td>Final Critic</td>\n",
       "      <td>1.36</td>\n",
       "      <td>Pheusrical25</td>\n",
       "    </tr>\n",
       "    <tr>\n",
       "      <th>4</th>\n",
       "      <td>23</td>\n",
       "      <td>Male</td>\n",
       "      <td>63</td>\n",
       "      <td>Stormfury Mace</td>\n",
       "      <td>1.27</td>\n",
       "      <td>Aela59</td>\n",
       "    </tr>\n",
       "  </tbody>\n",
       "</table>\n",
       "</div>"
      ],
      "text/plain": [
       "   Age Gender  Item ID                                  Item Name  Price  \\\n",
       "0   38   Male      165                Bone Crushing Silver Skewer   3.37   \n",
       "1   21   Male      119  Stormbringer, Dark Blade of Ending Misery   2.32   \n",
       "2   34   Male      174                            Primitive Blade   2.46   \n",
       "3   21   Male       92                               Final Critic   1.36   \n",
       "4   23   Male       63                             Stormfury Mace   1.27   \n",
       "\n",
       "             SN  \n",
       "0     Aelalis34  \n",
       "1        Eolo46  \n",
       "2   Assastnya25  \n",
       "3  Pheusrical25  \n",
       "4        Aela59  "
      ]
     },
     "execution_count": 660,
     "metadata": {},
     "output_type": "execute_result"
    }
   ],
   "source": [
    "# droping the duplicte names i.e SN\n",
    "no_dup_players = purchase_df.drop_duplicates(\"SN\")\n",
    "no_dup_players.head()"
   ]
  },
  {
   "cell_type": "code",
   "execution_count": 661,
   "metadata": {},
   "outputs": [
    {
     "data": {
      "text/html": [
       "<style  type=\"text/css\" >\n",
       "</style>  \n",
       "<table id=\"T_2ba8669e_0fc2_11e8_af79_a8667f3c136d\" > \n",
       "<thead>    <tr> \n",
       "        <th class=\"blank level0\" ></th> \n",
       "        <th class=\"col_heading level0 col0\" ># of Players</th> \n",
       "        <th class=\"col_heading level0 col1\" >% of Players</th> \n",
       "    </tr>    <tr> \n",
       "        <th class=\"index_name level0\" >Gender</th> \n",
       "        <th class=\"blank\" ></th> \n",
       "        <th class=\"blank\" ></th> \n",
       "    </tr></thead> \n",
       "<tbody>    <tr> \n",
       "        <th id=\"T_2ba8669e_0fc2_11e8_af79_a8667f3c136dlevel0_row0\" class=\"row_heading level0 row0\" >Male</th> \n",
       "        <td id=\"T_2ba8669e_0fc2_11e8_af79_a8667f3c136drow0_col0\" class=\"data row0 col0\" >465</td> \n",
       "        <td id=\"T_2ba8669e_0fc2_11e8_af79_a8667f3c136drow0_col1\" class=\"data row0 col1\" >81.2%</td> \n",
       "    </tr>    <tr> \n",
       "        <th id=\"T_2ba8669e_0fc2_11e8_af79_a8667f3c136dlevel0_row1\" class=\"row_heading level0 row1\" >Female</th> \n",
       "        <td id=\"T_2ba8669e_0fc2_11e8_af79_a8667f3c136drow1_col0\" class=\"data row1 col0\" >100</td> \n",
       "        <td id=\"T_2ba8669e_0fc2_11e8_af79_a8667f3c136drow1_col1\" class=\"data row1 col1\" >17.5%</td> \n",
       "    </tr>    <tr> \n",
       "        <th id=\"T_2ba8669e_0fc2_11e8_af79_a8667f3c136dlevel0_row2\" class=\"row_heading level0 row2\" >Other / Non-Disclosed</th> \n",
       "        <td id=\"T_2ba8669e_0fc2_11e8_af79_a8667f3c136drow2_col0\" class=\"data row2 col0\" >8</td> \n",
       "        <td id=\"T_2ba8669e_0fc2_11e8_af79_a8667f3c136drow2_col1\" class=\"data row2 col1\" >1.4%</td> \n",
       "    </tr></tbody> \n",
       "</table> "
      ],
      "text/plain": [
       "<pandas.io.formats.style.Styler at 0x10a98a8d0>"
      ]
     },
     "execution_count": 661,
     "metadata": {},
     "output_type": "execute_result"
    }
   ],
   "source": [
    "# Percentage and Count of Male Players\n",
    "gender_cnt = no_dup_players['Gender'].value_counts().reset_index()\n",
    "gender_cnt['% of Players'] = (gender_cnt['Gender']/players_cnt) * 100\n",
    "gender_cnt.rename(columns = {'index': 'Gender', 'Gender': '# of Players'}, inplace = True)\n",
    "gender_cnt.set_index(['Gender'], inplace = True)\n",
    "gender_cnt.style.format({\"% of Players\": \"{:.1f}%\"})"
   ]
  },
  {
   "cell_type": "markdown",
   "metadata": {},
   "source": [
    "### Purchasing Analysis (Gender) ###\n"
   ]
  },
  {
   "cell_type": "code",
   "execution_count": 662,
   "metadata": {
    "collapsed": true
   },
   "outputs": [],
   "source": [
    "# The below each broken by gender:\n",
    "\n",
    "# Purchase Count\n",
    "# Average Purchase Price\n",
    "# Total Purchase Value\n",
    "# Normalized Totals"
   ]
  },
  {
   "cell_type": "code",
   "execution_count": 663,
   "metadata": {},
   "outputs": [
    {
     "data": {
      "text/html": [
       "<div>\n",
       "<style>\n",
       "    .dataframe thead tr:only-child th {\n",
       "        text-align: right;\n",
       "    }\n",
       "\n",
       "    .dataframe thead th {\n",
       "        text-align: left;\n",
       "    }\n",
       "\n",
       "    .dataframe tbody tr th {\n",
       "        vertical-align: top;\n",
       "    }\n",
       "</style>\n",
       "<table border=\"1\" class=\"dataframe\">\n",
       "  <thead>\n",
       "    <tr style=\"text-align: right;\">\n",
       "      <th></th>\n",
       "      <th>Gender</th>\n",
       "    </tr>\n",
       "    <tr>\n",
       "      <th>Gender</th>\n",
       "      <th></th>\n",
       "    </tr>\n",
       "  </thead>\n",
       "  <tbody>\n",
       "    <tr>\n",
       "      <th>Female</th>\n",
       "      <td>136</td>\n",
       "    </tr>\n",
       "    <tr>\n",
       "      <th>Male</th>\n",
       "      <td>633</td>\n",
       "    </tr>\n",
       "    <tr>\n",
       "      <th>Other / Non-Disclosed</th>\n",
       "      <td>11</td>\n",
       "    </tr>\n",
       "  </tbody>\n",
       "</table>\n",
       "</div>"
      ],
      "text/plain": [
       "                       Gender\n",
       "Gender                       \n",
       "Female                    136\n",
       "Male                      633\n",
       "Other / Non-Disclosed      11"
      ]
     },
     "execution_count": 663,
     "metadata": {},
     "output_type": "execute_result"
    }
   ],
   "source": [
    "# Purchase Count\n",
    "gen_pur_cnt_df = pd.DataFrame(purchase_df.groupby(\"Gender\")['Gender'].count())\n",
    "gen_pur_cnt_df"
   ]
  },
  {
   "cell_type": "code",
   "execution_count": 664,
   "metadata": {},
   "outputs": [
    {
     "data": {
      "text/html": [
       "<div>\n",
       "<style>\n",
       "    .dataframe thead tr:only-child th {\n",
       "        text-align: right;\n",
       "    }\n",
       "\n",
       "    .dataframe thead th {\n",
       "        text-align: left;\n",
       "    }\n",
       "\n",
       "    .dataframe tbody tr th {\n",
       "        vertical-align: top;\n",
       "    }\n",
       "</style>\n",
       "<table border=\"1\" class=\"dataframe\">\n",
       "  <thead>\n",
       "    <tr style=\"text-align: right;\">\n",
       "      <th></th>\n",
       "      <th>Price</th>\n",
       "    </tr>\n",
       "    <tr>\n",
       "      <th>Gender</th>\n",
       "      <th></th>\n",
       "    </tr>\n",
       "  </thead>\n",
       "  <tbody>\n",
       "    <tr>\n",
       "      <th>Female</th>\n",
       "      <td>382.91</td>\n",
       "    </tr>\n",
       "    <tr>\n",
       "      <th>Male</th>\n",
       "      <td>1867.68</td>\n",
       "    </tr>\n",
       "    <tr>\n",
       "      <th>Other / Non-Disclosed</th>\n",
       "      <td>35.74</td>\n",
       "    </tr>\n",
       "  </tbody>\n",
       "</table>\n",
       "</div>"
      ],
      "text/plain": [
       "                         Price\n",
       "Gender                        \n",
       "Female                  382.91\n",
       "Male                   1867.68\n",
       "Other / Non-Disclosed    35.74"
      ]
     },
     "execution_count": 664,
     "metadata": {},
     "output_type": "execute_result"
    }
   ],
   "source": [
    "# creating gender total df\n",
    "gen_pur_total_df = pd.DataFrame(purchase_df.groupby('Gender')['Price'].sum())\n",
    "gen_pur_total_df "
   ]
  },
  {
   "cell_type": "code",
   "execution_count": 665,
   "metadata": {},
   "outputs": [
    {
     "data": {
      "text/html": [
       "<div>\n",
       "<style>\n",
       "    .dataframe thead tr:only-child th {\n",
       "        text-align: right;\n",
       "    }\n",
       "\n",
       "    .dataframe thead th {\n",
       "        text-align: left;\n",
       "    }\n",
       "\n",
       "    .dataframe tbody tr th {\n",
       "        vertical-align: top;\n",
       "    }\n",
       "</style>\n",
       "<table border=\"1\" class=\"dataframe\">\n",
       "  <thead>\n",
       "    <tr style=\"text-align: right;\">\n",
       "      <th></th>\n",
       "      <th>Gender</th>\n",
       "      <th>Price</th>\n",
       "    </tr>\n",
       "    <tr>\n",
       "      <th>Gender</th>\n",
       "      <th></th>\n",
       "      <th></th>\n",
       "    </tr>\n",
       "  </thead>\n",
       "  <tbody>\n",
       "    <tr>\n",
       "      <th>Female</th>\n",
       "      <td>136</td>\n",
       "      <td>382.91</td>\n",
       "    </tr>\n",
       "    <tr>\n",
       "      <th>Male</th>\n",
       "      <td>633</td>\n",
       "      <td>1867.68</td>\n",
       "    </tr>\n",
       "    <tr>\n",
       "      <th>Other / Non-Disclosed</th>\n",
       "      <td>11</td>\n",
       "      <td>35.74</td>\n",
       "    </tr>\n",
       "  </tbody>\n",
       "</table>\n",
       "</div>"
      ],
      "text/plain": [
       "                       Gender    Price\n",
       "Gender                                \n",
       "Female                    136   382.91\n",
       "Male                      633  1867.68\n",
       "Other / Non-Disclosed      11    35.74"
      ]
     },
     "execution_count": 665,
     "metadata": {},
     "output_type": "execute_result"
    }
   ],
   "source": [
    "# Merging two dataframes gen_pur_cnt_df and gen_pur_total_df \n",
    "gen_pur_combined = pd.merge(gen_pur_cnt_df,gen_pur_total_df,left_index = True, right_index = True)\n",
    "gen_pur_combined"
   ]
  },
  {
   "cell_type": "code",
   "execution_count": 666,
   "metadata": {},
   "outputs": [
    {
     "data": {
      "text/html": [
       "<div>\n",
       "<style>\n",
       "    .dataframe thead tr:only-child th {\n",
       "        text-align: right;\n",
       "    }\n",
       "\n",
       "    .dataframe thead th {\n",
       "        text-align: left;\n",
       "    }\n",
       "\n",
       "    .dataframe tbody tr th {\n",
       "        vertical-align: top;\n",
       "    }\n",
       "</style>\n",
       "<table border=\"1\" class=\"dataframe\">\n",
       "  <thead>\n",
       "    <tr style=\"text-align: right;\">\n",
       "      <th></th>\n",
       "      <th># of Purchases</th>\n",
       "      <th>Total Purchase Value</th>\n",
       "    </tr>\n",
       "    <tr>\n",
       "      <th>Gender</th>\n",
       "      <th></th>\n",
       "      <th></th>\n",
       "    </tr>\n",
       "  </thead>\n",
       "  <tbody>\n",
       "    <tr>\n",
       "      <th>Female</th>\n",
       "      <td>136</td>\n",
       "      <td>382.91</td>\n",
       "    </tr>\n",
       "    <tr>\n",
       "      <th>Male</th>\n",
       "      <td>633</td>\n",
       "      <td>1867.68</td>\n",
       "    </tr>\n",
       "    <tr>\n",
       "      <th>Other / Non-Disclosed</th>\n",
       "      <td>11</td>\n",
       "      <td>35.74</td>\n",
       "    </tr>\n",
       "  </tbody>\n",
       "</table>\n",
       "</div>"
      ],
      "text/plain": [
       "                       # of Purchases  Total Purchase Value\n",
       "Gender                                                     \n",
       "Female                            136                382.91\n",
       "Male                              633               1867.68\n",
       "Other / Non-Disclosed              11                 35.74"
      ]
     },
     "execution_count": 666,
     "metadata": {},
     "output_type": "execute_result"
    }
   ],
   "source": [
    "# renaming the columns\n",
    "gen_pur_combined.rename(columns = {'Gender': '# of Purchases', 'Price':'Total Purchase Value'}, inplace=True)\n",
    "gen_pur_combined"
   ]
  },
  {
   "cell_type": "code",
   "execution_count": 667,
   "metadata": {},
   "outputs": [
    {
     "data": {
      "text/html": [
       "<div>\n",
       "<style>\n",
       "    .dataframe thead tr:only-child th {\n",
       "        text-align: right;\n",
       "    }\n",
       "\n",
       "    .dataframe thead th {\n",
       "        text-align: left;\n",
       "    }\n",
       "\n",
       "    .dataframe tbody tr th {\n",
       "        vertical-align: top;\n",
       "    }\n",
       "</style>\n",
       "<table border=\"1\" class=\"dataframe\">\n",
       "  <thead>\n",
       "    <tr style=\"text-align: right;\">\n",
       "      <th></th>\n",
       "      <th># of Purchases</th>\n",
       "      <th>Total Purchase Value</th>\n",
       "      <th>Average Purchase Price</th>\n",
       "    </tr>\n",
       "    <tr>\n",
       "      <th>Gender</th>\n",
       "      <th></th>\n",
       "      <th></th>\n",
       "      <th></th>\n",
       "    </tr>\n",
       "  </thead>\n",
       "  <tbody>\n",
       "    <tr>\n",
       "      <th>Female</th>\n",
       "      <td>136</td>\n",
       "      <td>382.91</td>\n",
       "      <td>2.815515</td>\n",
       "    </tr>\n",
       "    <tr>\n",
       "      <th>Male</th>\n",
       "      <td>633</td>\n",
       "      <td>1867.68</td>\n",
       "      <td>2.950521</td>\n",
       "    </tr>\n",
       "    <tr>\n",
       "      <th>Other / Non-Disclosed</th>\n",
       "      <td>11</td>\n",
       "      <td>35.74</td>\n",
       "      <td>3.249091</td>\n",
       "    </tr>\n",
       "  </tbody>\n",
       "</table>\n",
       "</div>"
      ],
      "text/plain": [
       "                       # of Purchases  Total Purchase Value  \\\n",
       "Gender                                                        \n",
       "Female                            136                382.91   \n",
       "Male                              633               1867.68   \n",
       "Other / Non-Disclosed              11                 35.74   \n",
       "\n",
       "                       Average Purchase Price  \n",
       "Gender                                         \n",
       "Female                               2.815515  \n",
       "Male                                 2.950521  \n",
       "Other / Non-Disclosed                3.249091  "
      ]
     },
     "execution_count": 667,
     "metadata": {},
     "output_type": "execute_result"
    }
   ],
   "source": [
    "#adds column for average purchase price.\n",
    "\n",
    "gen_pur_combined['Average Purchase Price'] = gen_pur_combined['Total Purchase Value']/gen_pur_combined['# of Purchases']\n",
    "gen_pur_combined"
   ]
  },
  {
   "cell_type": "code",
   "execution_count": 668,
   "metadata": {},
   "outputs": [
    {
     "data": {
      "text/html": [
       "<div>\n",
       "<style>\n",
       "    .dataframe thead tr:only-child th {\n",
       "        text-align: right;\n",
       "    }\n",
       "\n",
       "    .dataframe thead th {\n",
       "        text-align: left;\n",
       "    }\n",
       "\n",
       "    .dataframe tbody tr th {\n",
       "        vertical-align: top;\n",
       "    }\n",
       "</style>\n",
       "<table border=\"1\" class=\"dataframe\">\n",
       "  <thead>\n",
       "    <tr style=\"text-align: right;\">\n",
       "      <th></th>\n",
       "      <th># of Purchases</th>\n",
       "      <th>Total Purchase Value</th>\n",
       "      <th>Average Purchase Price</th>\n",
       "      <th># of Players</th>\n",
       "      <th>% of Players</th>\n",
       "    </tr>\n",
       "    <tr>\n",
       "      <th>Gender</th>\n",
       "      <th></th>\n",
       "      <th></th>\n",
       "      <th></th>\n",
       "      <th></th>\n",
       "      <th></th>\n",
       "    </tr>\n",
       "  </thead>\n",
       "  <tbody>\n",
       "    <tr>\n",
       "      <th>Female</th>\n",
       "      <td>136</td>\n",
       "      <td>382.91</td>\n",
       "      <td>2.815515</td>\n",
       "      <td>100</td>\n",
       "      <td>17.452007</td>\n",
       "    </tr>\n",
       "    <tr>\n",
       "      <th>Male</th>\n",
       "      <td>633</td>\n",
       "      <td>1867.68</td>\n",
       "      <td>2.950521</td>\n",
       "      <td>465</td>\n",
       "      <td>81.151832</td>\n",
       "    </tr>\n",
       "    <tr>\n",
       "      <th>Other / Non-Disclosed</th>\n",
       "      <td>11</td>\n",
       "      <td>35.74</td>\n",
       "      <td>3.249091</td>\n",
       "      <td>8</td>\n",
       "      <td>1.396161</td>\n",
       "    </tr>\n",
       "  </tbody>\n",
       "</table>\n",
       "</div>"
      ],
      "text/plain": [
       "                       # of Purchases  Total Purchase Value  \\\n",
       "Gender                                                        \n",
       "Female                            136                382.91   \n",
       "Male                              633               1867.68   \n",
       "Other / Non-Disclosed              11                 35.74   \n",
       "\n",
       "                       Average Purchase Price  # of Players  % of Players  \n",
       "Gender                                                                     \n",
       "Female                               2.815515           100     17.452007  \n",
       "Male                                 2.950521           465     81.151832  \n",
       "Other / Non-Disclosed                3.249091             8      1.396161  "
      ]
     },
     "execution_count": 668,
     "metadata": {},
     "output_type": "execute_result"
    }
   ],
   "source": [
    "#merging gender counts into current df \n",
    "gen_pur_combined = gen_pur_combined.merge(gender_cnt, left_index = True, right_index = True)\n",
    "gen_pur_combined"
   ]
  },
  {
   "cell_type": "code",
   "execution_count": 669,
   "metadata": {},
   "outputs": [
    {
     "data": {
      "text/html": [
       "<div>\n",
       "<style>\n",
       "    .dataframe thead tr:only-child th {\n",
       "        text-align: right;\n",
       "    }\n",
       "\n",
       "    .dataframe thead th {\n",
       "        text-align: left;\n",
       "    }\n",
       "\n",
       "    .dataframe tbody tr th {\n",
       "        vertical-align: top;\n",
       "    }\n",
       "</style>\n",
       "<table border=\"1\" class=\"dataframe\">\n",
       "  <thead>\n",
       "    <tr style=\"text-align: right;\">\n",
       "      <th></th>\n",
       "      <th># of Purchases</th>\n",
       "      <th>Total Purchase Value</th>\n",
       "      <th>Average Purchase Price</th>\n",
       "      <th># of Players</th>\n",
       "      <th>% of Players</th>\n",
       "      <th>Normalized Totals</th>\n",
       "    </tr>\n",
       "    <tr>\n",
       "      <th>Gender</th>\n",
       "      <th></th>\n",
       "      <th></th>\n",
       "      <th></th>\n",
       "      <th></th>\n",
       "      <th></th>\n",
       "      <th></th>\n",
       "    </tr>\n",
       "  </thead>\n",
       "  <tbody>\n",
       "    <tr>\n",
       "      <th>Female</th>\n",
       "      <td>136</td>\n",
       "      <td>382.91</td>\n",
       "      <td>2.815515</td>\n",
       "      <td>100</td>\n",
       "      <td>17.452007</td>\n",
       "      <td>3.829100</td>\n",
       "    </tr>\n",
       "    <tr>\n",
       "      <th>Male</th>\n",
       "      <td>633</td>\n",
       "      <td>1867.68</td>\n",
       "      <td>2.950521</td>\n",
       "      <td>465</td>\n",
       "      <td>81.151832</td>\n",
       "      <td>4.016516</td>\n",
       "    </tr>\n",
       "    <tr>\n",
       "      <th>Other / Non-Disclosed</th>\n",
       "      <td>11</td>\n",
       "      <td>35.74</td>\n",
       "      <td>3.249091</td>\n",
       "      <td>8</td>\n",
       "      <td>1.396161</td>\n",
       "      <td>4.467500</td>\n",
       "    </tr>\n",
       "  </tbody>\n",
       "</table>\n",
       "</div>"
      ],
      "text/plain": [
       "                       # of Purchases  Total Purchase Value  \\\n",
       "Gender                                                        \n",
       "Female                            136                382.91   \n",
       "Male                              633               1867.68   \n",
       "Other / Non-Disclosed              11                 35.74   \n",
       "\n",
       "                       Average Purchase Price  # of Players  % of Players  \\\n",
       "Gender                                                                      \n",
       "Female                               2.815515           100     17.452007   \n",
       "Male                                 2.950521           465     81.151832   \n",
       "Other / Non-Disclosed                3.249091             8      1.396161   \n",
       "\n",
       "                       Normalized Totals  \n",
       "Gender                                    \n",
       "Female                          3.829100  \n",
       "Male                            4.016516  \n",
       "Other / Non-Disclosed           4.467500  "
      ]
     },
     "execution_count": 669,
     "metadata": {},
     "output_type": "execute_result"
    }
   ],
   "source": [
    "# calculating and adding normalized total\n",
    "gen_pur_combined['Normalized Totals'] = gen_pur_combined['Total Purchase Value']/gen_pur_combined['# of Players']\n",
    "gen_pur_combined"
   ]
  },
  {
   "cell_type": "code",
   "execution_count": 670,
   "metadata": {},
   "outputs": [
    {
     "data": {
      "text/html": [
       "<div>\n",
       "<style>\n",
       "    .dataframe thead tr:only-child th {\n",
       "        text-align: right;\n",
       "    }\n",
       "\n",
       "    .dataframe thead th {\n",
       "        text-align: left;\n",
       "    }\n",
       "\n",
       "    .dataframe tbody tr th {\n",
       "        vertical-align: top;\n",
       "    }\n",
       "</style>\n",
       "<table border=\"1\" class=\"dataframe\">\n",
       "  <thead>\n",
       "    <tr style=\"text-align: right;\">\n",
       "      <th></th>\n",
       "      <th># of Purchases</th>\n",
       "      <th>Total Purchase Value</th>\n",
       "      <th>Average Purchase Price</th>\n",
       "      <th>Normalized Totals</th>\n",
       "    </tr>\n",
       "    <tr>\n",
       "      <th>Gender</th>\n",
       "      <th></th>\n",
       "      <th></th>\n",
       "      <th></th>\n",
       "      <th></th>\n",
       "    </tr>\n",
       "  </thead>\n",
       "  <tbody>\n",
       "    <tr>\n",
       "      <th>Female</th>\n",
       "      <td>136</td>\n",
       "      <td>382.91</td>\n",
       "      <td>2.815515</td>\n",
       "      <td>3.829100</td>\n",
       "    </tr>\n",
       "    <tr>\n",
       "      <th>Male</th>\n",
       "      <td>633</td>\n",
       "      <td>1867.68</td>\n",
       "      <td>2.950521</td>\n",
       "      <td>4.016516</td>\n",
       "    </tr>\n",
       "    <tr>\n",
       "      <th>Other / Non-Disclosed</th>\n",
       "      <td>11</td>\n",
       "      <td>35.74</td>\n",
       "      <td>3.249091</td>\n",
       "      <td>4.467500</td>\n",
       "    </tr>\n",
       "  </tbody>\n",
       "</table>\n",
       "</div>"
      ],
      "text/plain": [
       "                       # of Purchases  Total Purchase Value  \\\n",
       "Gender                                                        \n",
       "Female                            136                382.91   \n",
       "Male                              633               1867.68   \n",
       "Other / Non-Disclosed              11                 35.74   \n",
       "\n",
       "                       Average Purchase Price  Normalized Totals  \n",
       "Gender                                                            \n",
       "Female                               2.815515           3.829100  \n",
       "Male                                 2.950521           4.016516  \n",
       "Other / Non-Disclosed                3.249091           4.467500  "
      ]
     },
     "execution_count": 670,
     "metadata": {},
     "output_type": "execute_result"
    }
   ],
   "source": [
    "#deleting unwnted columns\n",
    "del gen_pur_combined['% of Players']\n",
    "del gen_pur_combined['# of Players']\n",
    "gen_pur_combined"
   ]
  },
  {
   "cell_type": "code",
   "execution_count": 671,
   "metadata": {},
   "outputs": [
    {
     "data": {
      "text/html": [
       "<style  type=\"text/css\" >\n",
       "</style>  \n",
       "<table id=\"T_2bdd525c_0fc2_11e8_a181_a8667f3c136d\" > \n",
       "<thead>    <tr> \n",
       "        <th class=\"blank level0\" ></th> \n",
       "        <th class=\"col_heading level0 col0\" ># of Purchases</th> \n",
       "        <th class=\"col_heading level0 col1\" >Total Purchase Value</th> \n",
       "        <th class=\"col_heading level0 col2\" >Average Purchase Price</th> \n",
       "        <th class=\"col_heading level0 col3\" >Normalized Totals</th> \n",
       "    </tr>    <tr> \n",
       "        <th class=\"index_name level0\" >Gender</th> \n",
       "        <th class=\"blank\" ></th> \n",
       "        <th class=\"blank\" ></th> \n",
       "        <th class=\"blank\" ></th> \n",
       "        <th class=\"blank\" ></th> \n",
       "    </tr></thead> \n",
       "<tbody>    <tr> \n",
       "        <th id=\"T_2bdd525c_0fc2_11e8_a181_a8667f3c136dlevel0_row0\" class=\"row_heading level0 row0\" >Female</th> \n",
       "        <td id=\"T_2bdd525c_0fc2_11e8_a181_a8667f3c136drow0_col0\" class=\"data row0 col0\" >136</td> \n",
       "        <td id=\"T_2bdd525c_0fc2_11e8_a181_a8667f3c136drow0_col1\" class=\"data row0 col1\" >$382.91</td> \n",
       "        <td id=\"T_2bdd525c_0fc2_11e8_a181_a8667f3c136drow0_col2\" class=\"data row0 col2\" >$2.82</td> \n",
       "        <td id=\"T_2bdd525c_0fc2_11e8_a181_a8667f3c136drow0_col3\" class=\"data row0 col3\" >$3.83</td> \n",
       "    </tr>    <tr> \n",
       "        <th id=\"T_2bdd525c_0fc2_11e8_a181_a8667f3c136dlevel0_row1\" class=\"row_heading level0 row1\" >Male</th> \n",
       "        <td id=\"T_2bdd525c_0fc2_11e8_a181_a8667f3c136drow1_col0\" class=\"data row1 col0\" >633</td> \n",
       "        <td id=\"T_2bdd525c_0fc2_11e8_a181_a8667f3c136drow1_col1\" class=\"data row1 col1\" >$1867.68</td> \n",
       "        <td id=\"T_2bdd525c_0fc2_11e8_a181_a8667f3c136drow1_col2\" class=\"data row1 col2\" >$2.95</td> \n",
       "        <td id=\"T_2bdd525c_0fc2_11e8_a181_a8667f3c136drow1_col3\" class=\"data row1 col3\" >$4.02</td> \n",
       "    </tr>    <tr> \n",
       "        <th id=\"T_2bdd525c_0fc2_11e8_a181_a8667f3c136dlevel0_row2\" class=\"row_heading level0 row2\" >Other / Non-Disclosed</th> \n",
       "        <td id=\"T_2bdd525c_0fc2_11e8_a181_a8667f3c136drow2_col0\" class=\"data row2 col0\" >11</td> \n",
       "        <td id=\"T_2bdd525c_0fc2_11e8_a181_a8667f3c136drow2_col1\" class=\"data row2 col1\" >$35.74</td> \n",
       "        <td id=\"T_2bdd525c_0fc2_11e8_a181_a8667f3c136drow2_col2\" class=\"data row2 col2\" >$3.25</td> \n",
       "        <td id=\"T_2bdd525c_0fc2_11e8_a181_a8667f3c136drow2_col3\" class=\"data row2 col3\" >$4.47</td> \n",
       "    </tr></tbody> \n",
       "</table> "
      ],
      "text/plain": [
       "<pandas.io.formats.style.Styler at 0x10a944a90>"
      ]
     },
     "execution_count": 671,
     "metadata": {},
     "output_type": "execute_result"
    }
   ],
   "source": [
    "# adding $ before the values\n",
    "gen_pur_combined.style.format({'Total Purchase Value': '${:.2f}', 'Average Purchase Price': '${:.2f}', 'Normalized Totals': '${:.2f}'})"
   ]
  },
  {
   "cell_type": "markdown",
   "metadata": {},
   "source": [
    "### Age Demographics ###"
   ]
  },
  {
   "cell_type": "code",
   "execution_count": 672,
   "metadata": {
    "collapsed": true
   },
   "outputs": [],
   "source": [
    "#The below each broken into bins of 4 years (i.e. <10, 10-14, 15-19, etc.)\n",
    "#Purchase Count\n",
    "#Average Purchase Price\n",
    "#Total Purchase Value\n",
    "#Normalized Totals"
   ]
  },
  {
   "cell_type": "code",
   "execution_count": 673,
   "metadata": {},
   "outputs": [
    {
     "data": {
      "text/html": [
       "<div>\n",
       "<style>\n",
       "    .dataframe thead tr:only-child th {\n",
       "        text-align: right;\n",
       "    }\n",
       "\n",
       "    .dataframe thead th {\n",
       "        text-align: left;\n",
       "    }\n",
       "\n",
       "    .dataframe tbody tr th {\n",
       "        vertical-align: top;\n",
       "    }\n",
       "</style>\n",
       "<table border=\"1\" class=\"dataframe\">\n",
       "  <thead>\n",
       "    <tr style=\"text-align: right;\">\n",
       "      <th></th>\n",
       "      <th>Age</th>\n",
       "      <th>Gender</th>\n",
       "      <th>Item ID</th>\n",
       "      <th>Item Name</th>\n",
       "      <th>Price</th>\n",
       "      <th>SN</th>\n",
       "      <th>age_bin</th>\n",
       "    </tr>\n",
       "  </thead>\n",
       "  <tbody>\n",
       "    <tr>\n",
       "      <th>0</th>\n",
       "      <td>38</td>\n",
       "      <td>Male</td>\n",
       "      <td>165</td>\n",
       "      <td>Bone Crushing Silver Skewer</td>\n",
       "      <td>3.37</td>\n",
       "      <td>Aelalis34</td>\n",
       "      <td>35 - 39</td>\n",
       "    </tr>\n",
       "    <tr>\n",
       "      <th>1</th>\n",
       "      <td>21</td>\n",
       "      <td>Male</td>\n",
       "      <td>119</td>\n",
       "      <td>Stormbringer, Dark Blade of Ending Misery</td>\n",
       "      <td>2.32</td>\n",
       "      <td>Eolo46</td>\n",
       "      <td>20 - 24</td>\n",
       "    </tr>\n",
       "    <tr>\n",
       "      <th>2</th>\n",
       "      <td>34</td>\n",
       "      <td>Male</td>\n",
       "      <td>174</td>\n",
       "      <td>Primitive Blade</td>\n",
       "      <td>2.46</td>\n",
       "      <td>Assastnya25</td>\n",
       "      <td>30 - 34</td>\n",
       "    </tr>\n",
       "    <tr>\n",
       "      <th>3</th>\n",
       "      <td>21</td>\n",
       "      <td>Male</td>\n",
       "      <td>92</td>\n",
       "      <td>Final Critic</td>\n",
       "      <td>1.36</td>\n",
       "      <td>Pheusrical25</td>\n",
       "      <td>20 - 24</td>\n",
       "    </tr>\n",
       "    <tr>\n",
       "      <th>4</th>\n",
       "      <td>23</td>\n",
       "      <td>Male</td>\n",
       "      <td>63</td>\n",
       "      <td>Stormfury Mace</td>\n",
       "      <td>1.27</td>\n",
       "      <td>Aela59</td>\n",
       "      <td>20 - 24</td>\n",
       "    </tr>\n",
       "  </tbody>\n",
       "</table>\n",
       "</div>"
      ],
      "text/plain": [
       "   Age Gender  Item ID                                  Item Name  Price  \\\n",
       "0   38   Male      165                Bone Crushing Silver Skewer   3.37   \n",
       "1   21   Male      119  Stormbringer, Dark Blade of Ending Misery   2.32   \n",
       "2   34   Male      174                            Primitive Blade   2.46   \n",
       "3   21   Male       92                               Final Critic   1.36   \n",
       "4   23   Male       63                             Stormfury Mace   1.27   \n",
       "\n",
       "             SN  age_bin  \n",
       "0     Aelalis34  35 - 39  \n",
       "1        Eolo46  20 - 24  \n",
       "2   Assastnya25  30 - 34  \n",
       "3  Pheusrical25  20 - 24  \n",
       "4        Aela59  20 - 24  "
      ]
     },
     "execution_count": 673,
     "metadata": {},
     "output_type": "execute_result"
    }
   ],
   "source": [
    "#creates a column 'age_bin' based on conditional of age range\n",
    "purchase_df.loc[(purchase_df['Age'] < 10), 'age_bin'] = \"< 10\"\n",
    "purchase_df.loc[(purchase_df['Age'] >= 10) & (purchase_df['Age'] <= 14), 'age_bin'] = \"10 - 14\"\n",
    "purchase_df.loc[(purchase_df['Age'] >= 15) & (purchase_df['Age'] <= 19), 'age_bin'] = \"15 - 19\"\n",
    "purchase_df.loc[(purchase_df['Age'] >= 20) & (purchase_df['Age'] <= 24), 'age_bin'] = \"20 - 24\"\n",
    "purchase_df.loc[(purchase_df['Age'] >= 25) & (purchase_df['Age'] <= 29), 'age_bin'] = \"25 - 29\"\n",
    "purchase_df.loc[(purchase_df['Age'] >= 30) & (purchase_df['Age'] <= 34), 'age_bin'] = \"30 - 34\"\n",
    "purchase_df.loc[(purchase_df['Age'] >= 35) & (purchase_df['Age'] <= 39), 'age_bin'] = \"35 - 39\"\n",
    "purchase_df.loc[(purchase_df['Age'] >= 40), 'age_bin'] = \"> 40\"\n",
    "purchase_df.head()"
   ]
  },
  {
   "cell_type": "code",
   "execution_count": 674,
   "metadata": {},
   "outputs": [
    {
     "data": {
      "text/plain": [
       "age_bin    780\n",
       "Age        780\n",
       "dtype: int64"
      ]
     },
     "execution_count": 674,
     "metadata": {},
     "output_type": "execute_result"
    }
   ],
   "source": [
    "purchase_df[['age_bin', 'Age']].count()"
   ]
  },
  {
   "cell_type": "code",
   "execution_count": 675,
   "metadata": {},
   "outputs": [],
   "source": [
    "# purchase counts by age bin \n",
    "agebin_pur_cnt_df = pd.DataFrame(purchase_df.groupby('age_bin')['SN'].count())\n"
   ]
  },
  {
   "cell_type": "code",
   "execution_count": 676,
   "metadata": {},
   "outputs": [],
   "source": [
    "#Average Purchase Price by age bin\n",
    "agebin_avg_price_df = pd.DataFrame(purchase_df.groupby('age_bin')['Price'].mean()) \n"
   ]
  },
  {
   "cell_type": "code",
   "execution_count": 677,
   "metadata": {},
   "outputs": [],
   "source": [
    "#Total Purchase Value\n",
    "agebin_total_purchse_df = pd.DataFrame(purchase_df.groupby('age_bin')['Price'].sum())\n"
   ]
  },
  {
   "cell_type": "code",
   "execution_count": 678,
   "metadata": {},
   "outputs": [],
   "source": [
    "#Normalized Totals. For this we need to do the following data manipulations.\n",
    "\n",
    "# 1 drop the duplicates and find the unique values\n",
    "no_dup_agebin_df = pd.DataFrame(purchase_df.drop_duplicates('SN', keep = 'last').groupby('age_bin')['SN'].count())\n"
   ]
  },
  {
   "cell_type": "code",
   "execution_count": 679,
   "metadata": {},
   "outputs": [],
   "source": [
    "#2 Merge the various dataframes\n",
    "merge_agebin_df = pd.merge(agebin_pur_cnt_df, agebin_avg_price_df, left_index = True, right_index = True).merge(agebin_total_purchse_df, left_index = True, right_index = True).merge(no_dup_agebin_df, left_index = True, right_index = True)\n"
   ]
  },
  {
   "cell_type": "code",
   "execution_count": 680,
   "metadata": {},
   "outputs": [],
   "source": [
    "# 3 renames columns to the meaningful names\n",
    "merge_agebin_df.rename(columns = {\"SN_x\": \"# of Purchases\", \"Price_x\": \"Average Purchase Price\", \"Price_y\": \"Total Purchase Value\", \"SN_y\": \"# of Purchasers\"}, inplace = True)\n"
   ]
  },
  {
   "cell_type": "code",
   "execution_count": 681,
   "metadata": {},
   "outputs": [
    {
     "data": {
      "text/html": [
       "<div>\n",
       "<style>\n",
       "    .dataframe thead tr:only-child th {\n",
       "        text-align: right;\n",
       "    }\n",
       "\n",
       "    .dataframe thead th {\n",
       "        text-align: left;\n",
       "    }\n",
       "\n",
       "    .dataframe tbody tr th {\n",
       "        vertical-align: top;\n",
       "    }\n",
       "</style>\n",
       "<table border=\"1\" class=\"dataframe\">\n",
       "  <thead>\n",
       "    <tr style=\"text-align: right;\">\n",
       "      <th></th>\n",
       "      <th># of Purchases</th>\n",
       "      <th>Average Purchase Price</th>\n",
       "      <th>Total Purchase Value</th>\n",
       "      <th># of Purchasers</th>\n",
       "      <th>Normalized Totals</th>\n",
       "    </tr>\n",
       "    <tr>\n",
       "      <th>age_bin</th>\n",
       "      <th></th>\n",
       "      <th></th>\n",
       "      <th></th>\n",
       "      <th></th>\n",
       "      <th></th>\n",
       "    </tr>\n",
       "  </thead>\n",
       "  <tbody>\n",
       "    <tr>\n",
       "      <th>10 - 14</th>\n",
       "      <td>35</td>\n",
       "      <td>2.770000</td>\n",
       "      <td>96.95</td>\n",
       "      <td>23</td>\n",
       "      <td>4.215217</td>\n",
       "    </tr>\n",
       "    <tr>\n",
       "      <th>15 - 19</th>\n",
       "      <td>133</td>\n",
       "      <td>2.905414</td>\n",
       "      <td>386.42</td>\n",
       "      <td>100</td>\n",
       "      <td>3.864200</td>\n",
       "    </tr>\n",
       "    <tr>\n",
       "      <th>20 - 24</th>\n",
       "      <td>336</td>\n",
       "      <td>2.913006</td>\n",
       "      <td>978.77</td>\n",
       "      <td>259</td>\n",
       "      <td>3.779035</td>\n",
       "    </tr>\n",
       "    <tr>\n",
       "      <th>25 - 29</th>\n",
       "      <td>125</td>\n",
       "      <td>2.962640</td>\n",
       "      <td>370.33</td>\n",
       "      <td>87</td>\n",
       "      <td>4.256667</td>\n",
       "    </tr>\n",
       "    <tr>\n",
       "      <th>30 - 34</th>\n",
       "      <td>64</td>\n",
       "      <td>3.082031</td>\n",
       "      <td>197.25</td>\n",
       "      <td>47</td>\n",
       "      <td>4.196809</td>\n",
       "    </tr>\n",
       "    <tr>\n",
       "      <th>35 - 39</th>\n",
       "      <td>42</td>\n",
       "      <td>2.842857</td>\n",
       "      <td>119.40</td>\n",
       "      <td>27</td>\n",
       "      <td>4.422222</td>\n",
       "    </tr>\n",
       "    <tr>\n",
       "      <th>&lt; 10</th>\n",
       "      <td>28</td>\n",
       "      <td>2.980714</td>\n",
       "      <td>83.46</td>\n",
       "      <td>19</td>\n",
       "      <td>4.392632</td>\n",
       "    </tr>\n",
       "    <tr>\n",
       "      <th>&gt; 40</th>\n",
       "      <td>17</td>\n",
       "      <td>3.161765</td>\n",
       "      <td>53.75</td>\n",
       "      <td>11</td>\n",
       "      <td>4.886364</td>\n",
       "    </tr>\n",
       "  </tbody>\n",
       "</table>\n",
       "</div>"
      ],
      "text/plain": [
       "         # of Purchases  Average Purchase Price  Total Purchase Value  \\\n",
       "age_bin                                                                 \n",
       "10 - 14              35                2.770000                 96.95   \n",
       "15 - 19             133                2.905414                386.42   \n",
       "20 - 24             336                2.913006                978.77   \n",
       "25 - 29             125                2.962640                370.33   \n",
       "30 - 34              64                3.082031                197.25   \n",
       "35 - 39              42                2.842857                119.40   \n",
       "< 10                 28                2.980714                 83.46   \n",
       "> 40                 17                3.161765                 53.75   \n",
       "\n",
       "         # of Purchasers  Normalized Totals  \n",
       "age_bin                                      \n",
       "10 - 14               23           4.215217  \n",
       "15 - 19              100           3.864200  \n",
       "20 - 24              259           3.779035  \n",
       "25 - 29               87           4.256667  \n",
       "30 - 34               47           4.196809  \n",
       "35 - 39               27           4.422222  \n",
       "< 10                  19           4.392632  \n",
       "> 40                  11           4.886364  "
      ]
     },
     "execution_count": 681,
     "metadata": {},
     "output_type": "execute_result"
    }
   ],
   "source": [
    "# And now calculates normalized totals\n",
    "merge_agebin_df['Normalized Totals'] = merge_agebin_df['Total Purchase Value']/merge_agebin_df['# of Purchasers']\n",
    "merge_agebin_df"
   ]
  },
  {
   "cell_type": "code",
   "execution_count": 682,
   "metadata": {},
   "outputs": [],
   "source": [
    "#resting the  index for \n",
    "merge_agebin_df.index.rename(\"Age\", inplace = True)\n",
    "\n"
   ]
  },
  {
   "cell_type": "code",
   "execution_count": 683,
   "metadata": {},
   "outputs": [
    {
     "data": {
      "text/html": [
       "<div>\n",
       "<style>\n",
       "    .dataframe thead tr:only-child th {\n",
       "        text-align: right;\n",
       "    }\n",
       "\n",
       "    .dataframe thead th {\n",
       "        text-align: left;\n",
       "    }\n",
       "\n",
       "    .dataframe tbody tr th {\n",
       "        vertical-align: top;\n",
       "    }\n",
       "</style>\n",
       "<table border=\"1\" class=\"dataframe\">\n",
       "  <thead>\n",
       "    <tr style=\"text-align: right;\">\n",
       "      <th></th>\n",
       "      <th># of Purchases</th>\n",
       "      <th>Average Purchase Price</th>\n",
       "      <th>Total Purchase Value</th>\n",
       "      <th># of Purchasers</th>\n",
       "      <th>Normalized Totals</th>\n",
       "    </tr>\n",
       "    <tr>\n",
       "      <th>Age</th>\n",
       "      <th></th>\n",
       "      <th></th>\n",
       "      <th></th>\n",
       "      <th></th>\n",
       "      <th></th>\n",
       "    </tr>\n",
       "  </thead>\n",
       "  <tbody>\n",
       "    <tr>\n",
       "      <th>10 - 14</th>\n",
       "      <td>35</td>\n",
       "      <td>2.770000</td>\n",
       "      <td>96.95</td>\n",
       "      <td>23</td>\n",
       "      <td>4.215217</td>\n",
       "    </tr>\n",
       "    <tr>\n",
       "      <th>15 - 19</th>\n",
       "      <td>133</td>\n",
       "      <td>2.905414</td>\n",
       "      <td>386.42</td>\n",
       "      <td>100</td>\n",
       "      <td>3.864200</td>\n",
       "    </tr>\n",
       "    <tr>\n",
       "      <th>20 - 24</th>\n",
       "      <td>336</td>\n",
       "      <td>2.913006</td>\n",
       "      <td>978.77</td>\n",
       "      <td>259</td>\n",
       "      <td>3.779035</td>\n",
       "    </tr>\n",
       "    <tr>\n",
       "      <th>25 - 29</th>\n",
       "      <td>125</td>\n",
       "      <td>2.962640</td>\n",
       "      <td>370.33</td>\n",
       "      <td>87</td>\n",
       "      <td>4.256667</td>\n",
       "    </tr>\n",
       "    <tr>\n",
       "      <th>30 - 34</th>\n",
       "      <td>64</td>\n",
       "      <td>3.082031</td>\n",
       "      <td>197.25</td>\n",
       "      <td>47</td>\n",
       "      <td>4.196809</td>\n",
       "    </tr>\n",
       "    <tr>\n",
       "      <th>35 - 39</th>\n",
       "      <td>42</td>\n",
       "      <td>2.842857</td>\n",
       "      <td>119.40</td>\n",
       "      <td>27</td>\n",
       "      <td>4.422222</td>\n",
       "    </tr>\n",
       "    <tr>\n",
       "      <th>&lt; 10</th>\n",
       "      <td>28</td>\n",
       "      <td>2.980714</td>\n",
       "      <td>83.46</td>\n",
       "      <td>19</td>\n",
       "      <td>4.392632</td>\n",
       "    </tr>\n",
       "    <tr>\n",
       "      <th>&gt; 40</th>\n",
       "      <td>17</td>\n",
       "      <td>3.161765</td>\n",
       "      <td>53.75</td>\n",
       "      <td>11</td>\n",
       "      <td>4.886364</td>\n",
       "    </tr>\n",
       "  </tbody>\n",
       "</table>\n",
       "</div>"
      ],
      "text/plain": [
       "         # of Purchases  Average Purchase Price  Total Purchase Value  \\\n",
       "Age                                                                     \n",
       "10 - 14              35                2.770000                 96.95   \n",
       "15 - 19             133                2.905414                386.42   \n",
       "20 - 24             336                2.913006                978.77   \n",
       "25 - 29             125                2.962640                370.33   \n",
       "30 - 34              64                3.082031                197.25   \n",
       "35 - 39              42                2.842857                119.40   \n",
       "< 10                 28                2.980714                 83.46   \n",
       "> 40                 17                3.161765                 53.75   \n",
       "\n",
       "         # of Purchasers  Normalized Totals  \n",
       "Age                                          \n",
       "10 - 14               23           4.215217  \n",
       "15 - 19              100           3.864200  \n",
       "20 - 24              259           3.779035  \n",
       "25 - 29               87           4.256667  \n",
       "30 - 34               47           4.196809  \n",
       "35 - 39               27           4.422222  \n",
       "< 10                  19           4.392632  \n",
       "> 40                  11           4.886364  "
      ]
     },
     "execution_count": 683,
     "metadata": {},
     "output_type": "execute_result"
    }
   ],
   "source": [
    "# Styling and Formating the df\n",
    "# formats\n",
    "merge_agebin_df.style.format({'Average Purchase Price': '${:.2f}', 'Total Purchase Value': '${:.2f}', 'Normalized Totals': '${:.2f}'})\n",
    "merge_agebin_df"
   ]
  },
  {
   "cell_type": "markdown",
   "metadata": {},
   "source": [
    "### Top Spenders ### "
   ]
  },
  {
   "cell_type": "code",
   "execution_count": 684,
   "metadata": {
    "collapsed": true
   },
   "outputs": [],
   "source": [
    "## Identify the 5 most popular items by purchase count, then list (in a table):\n",
    "# SN\n",
    "# Purchase Count\n",
    "# Average Purchase Price\n",
    "# Total Purchase Value\n"
   ]
  },
  {
   "cell_type": "code",
   "execution_count": 685,
   "metadata": {
    "scrolled": true
   },
   "outputs": [],
   "source": [
    "#Identify the 5 most popular items by purchase count, then list (in a table):\n",
    "\n",
    "\n",
    "# gets a count of each item by grouping by Item ID and counting the number of each IDs occurances\n",
    "pop5_SN = pd.DataFrame(purchase_df.groupby('SN')['SN'].count())\n",
    "#sort from high to low total purchase count\n",
    "pop5_SN.sort_values('SN', ascending = False, inplace = True)\n",
    "#keep the first 6 rows because there is a tie\n",
    "pop5_SN = pop5_SN.iloc[0:6][:]\n",
    "\n"
   ]
  },
  {
   "cell_type": "code",
   "execution_count": 686,
   "metadata": {
    "scrolled": true
   },
   "outputs": [
    {
     "data": {
      "text/html": [
       "<style  type=\"text/css\" >\n",
       "</style>  \n",
       "<table id=\"T_2c3d2346_0fc2_11e8_9fd6_a8667f3c136d\" > \n",
       "<thead>    <tr> \n",
       "        <th class=\"blank level0\" ></th> \n",
       "        <th class=\"col_heading level0 col0\" >Item Name</th> \n",
       "        <th class=\"col_heading level0 col1\" >Purchase Count</th> \n",
       "        <th class=\"col_heading level0 col2\" >Item Price</th> \n",
       "        <th class=\"col_heading level0 col3\" >Total Purchase Value</th> \n",
       "    </tr>    <tr> \n",
       "        <th class=\"index_name level0\" >Item ID</th> \n",
       "        <th class=\"blank\" ></th> \n",
       "        <th class=\"blank\" ></th> \n",
       "        <th class=\"blank\" ></th> \n",
       "        <th class=\"blank\" ></th> \n",
       "    </tr></thead> \n",
       "<tbody>    <tr> \n",
       "        <th id=\"T_2c3d2346_0fc2_11e8_9fd6_a8667f3c136dlevel0_row0\" class=\"row_heading level0 row0\" >39</th> \n",
       "        <td id=\"T_2c3d2346_0fc2_11e8_9fd6_a8667f3c136drow0_col0\" class=\"data row0 col0\" >Betrayal, Whisper of Grieving Widows</td> \n",
       "        <td id=\"T_2c3d2346_0fc2_11e8_9fd6_a8667f3c136drow0_col1\" class=\"data row0 col1\" >11</td> \n",
       "        <td id=\"T_2c3d2346_0fc2_11e8_9fd6_a8667f3c136drow0_col2\" class=\"data row0 col2\" >$2.35</td> \n",
       "        <td id=\"T_2c3d2346_0fc2_11e8_9fd6_a8667f3c136drow0_col3\" class=\"data row0 col3\" >$25.85</td> \n",
       "    </tr>    <tr> \n",
       "        <th id=\"T_2c3d2346_0fc2_11e8_9fd6_a8667f3c136dlevel0_row1\" class=\"row_heading level0 row1\" >84</th> \n",
       "        <td id=\"T_2c3d2346_0fc2_11e8_9fd6_a8667f3c136drow1_col0\" class=\"data row1 col0\" >Arcane Gem</td> \n",
       "        <td id=\"T_2c3d2346_0fc2_11e8_9fd6_a8667f3c136drow1_col1\" class=\"data row1 col1\" >11</td> \n",
       "        <td id=\"T_2c3d2346_0fc2_11e8_9fd6_a8667f3c136drow1_col2\" class=\"data row1 col2\" >$2.23</td> \n",
       "        <td id=\"T_2c3d2346_0fc2_11e8_9fd6_a8667f3c136drow1_col3\" class=\"data row1 col3\" >$24.53</td> \n",
       "    </tr>    <tr> \n",
       "        <th id=\"T_2c3d2346_0fc2_11e8_9fd6_a8667f3c136dlevel0_row2\" class=\"row_heading level0 row2\" >31</th> \n",
       "        <td id=\"T_2c3d2346_0fc2_11e8_9fd6_a8667f3c136drow2_col0\" class=\"data row2 col0\" >Trickster</td> \n",
       "        <td id=\"T_2c3d2346_0fc2_11e8_9fd6_a8667f3c136drow2_col1\" class=\"data row2 col1\" >9</td> \n",
       "        <td id=\"T_2c3d2346_0fc2_11e8_9fd6_a8667f3c136drow2_col2\" class=\"data row2 col2\" >$2.07</td> \n",
       "        <td id=\"T_2c3d2346_0fc2_11e8_9fd6_a8667f3c136drow2_col3\" class=\"data row2 col3\" >$18.63</td> \n",
       "    </tr>    <tr> \n",
       "        <th id=\"T_2c3d2346_0fc2_11e8_9fd6_a8667f3c136dlevel0_row3\" class=\"row_heading level0 row3\" >175</th> \n",
       "        <td id=\"T_2c3d2346_0fc2_11e8_9fd6_a8667f3c136drow3_col0\" class=\"data row3 col0\" >Woeful Adamantite Claymore</td> \n",
       "        <td id=\"T_2c3d2346_0fc2_11e8_9fd6_a8667f3c136drow3_col1\" class=\"data row3 col1\" >9</td> \n",
       "        <td id=\"T_2c3d2346_0fc2_11e8_9fd6_a8667f3c136drow3_col2\" class=\"data row3 col2\" >$1.24</td> \n",
       "        <td id=\"T_2c3d2346_0fc2_11e8_9fd6_a8667f3c136drow3_col3\" class=\"data row3 col3\" >$11.16</td> \n",
       "    </tr>    <tr> \n",
       "        <th id=\"T_2c3d2346_0fc2_11e8_9fd6_a8667f3c136dlevel0_row4\" class=\"row_heading level0 row4\" >13</th> \n",
       "        <td id=\"T_2c3d2346_0fc2_11e8_9fd6_a8667f3c136drow4_col0\" class=\"data row4 col0\" >Serenity</td> \n",
       "        <td id=\"T_2c3d2346_0fc2_11e8_9fd6_a8667f3c136drow4_col1\" class=\"data row4 col1\" >9</td> \n",
       "        <td id=\"T_2c3d2346_0fc2_11e8_9fd6_a8667f3c136drow4_col2\" class=\"data row4 col2\" >$1.49</td> \n",
       "        <td id=\"T_2c3d2346_0fc2_11e8_9fd6_a8667f3c136drow4_col3\" class=\"data row4 col3\" >$13.41</td> \n",
       "    </tr>    <tr> \n",
       "        <th id=\"T_2c3d2346_0fc2_11e8_9fd6_a8667f3c136dlevel0_row5\" class=\"row_heading level0 row5\" >34</th> \n",
       "        <td id=\"T_2c3d2346_0fc2_11e8_9fd6_a8667f3c136drow5_col0\" class=\"data row5 col0\" >Retribution Axe</td> \n",
       "        <td id=\"T_2c3d2346_0fc2_11e8_9fd6_a8667f3c136drow5_col1\" class=\"data row5 col1\" >9</td> \n",
       "        <td id=\"T_2c3d2346_0fc2_11e8_9fd6_a8667f3c136drow5_col2\" class=\"data row5 col2\" >$4.14</td> \n",
       "        <td id=\"T_2c3d2346_0fc2_11e8_9fd6_a8667f3c136drow5_col3\" class=\"data row5 col3\" >$37.26</td> \n",
       "    </tr></tbody> \n",
       "</table> "
      ],
      "text/plain": [
       "<pandas.io.formats.style.Styler at 0x10a9bbcc0>"
      ]
     },
     "execution_count": 686,
     "metadata": {},
     "output_type": "execute_result"
    }
   ],
   "source": [
    "# gets a count of each item by grouping by Item ID and counting the number of each IDs occurances\n",
    "pop5_SN = pd.DataFrame(purchase_df.groupby('Item ID')['Item ID'].count())\n",
    "#sort from high to low total purchase count\n",
    "pop5_SN.sort_values('Item ID', ascending = False, inplace = True)\n",
    "#keep the first 6 rows because there is a tie\n",
    "pop5_SN = pop5_SN.iloc[0:6][:]\n",
    "#find the total purchase value of each item\n",
    "pop5_items_total = pd.DataFrame(purchase_df.groupby('Item ID')['Price'].sum())\n",
    "#merge purcahse count and total purcahse value \n",
    "pop5_items = pd.merge(pop5_SN, pop5_items_total, left_index = True, right_index = True)\n",
    "#drop duplicate items from original Df\n",
    "no_dup_items = purchase_df.drop_duplicates(['Item ID'], keep = 'last')\n",
    "# merge to get all other info from the pop 6 using the no dup df\n",
    "pop5_merge_ID = pd.merge(pop5_items, no_dup_items, left_index = True, right_on = 'Item ID')\n",
    "#keep only neede columns\n",
    "pop5_merge_ID = pop5_merge_ID[['Item ID', 'Item Name', 'Item ID_x', 'Price_y', 'Price_x']]\n",
    "#reset index as item ID for aesthetics\n",
    "pop5_merge_ID.set_index(['Item ID'], inplace = True)\n",
    "# rename columns\n",
    "pop5_merge_ID.rename(columns =  {'Item ID_x': 'Purchase Count', 'Price_y': 'Item Price', 'Price_x': 'Total Purchase Value'}, inplace=True)\n",
    "#format\n",
    "pop5_merge_ID.style.format({'Item Price': '${:.2f}', 'Total Purchase Value': '${:.2f}'})\n",
    "\n"
   ]
  },
  {
   "cell_type": "code",
   "execution_count": 687,
   "metadata": {},
   "outputs": [],
   "source": [
    "del pop5_merge_ID[\"Item Name\"]\n"
   ]
  },
  {
   "cell_type": "markdown",
   "metadata": {},
   "source": [
    "### Most Popular Items ###\n"
   ]
  },
  {
   "cell_type": "code",
   "execution_count": 688,
   "metadata": {
    "collapsed": true
   },
   "outputs": [],
   "source": [
    "# Identify the 5 most popular items by purchase count, then list (in a table):\n",
    "# Item ID\n",
    "# Item Name\n",
    "# Purchase Count\n",
    "# Item Price\n",
    "# Total Purchase Value"
   ]
  },
  {
   "cell_type": "code",
   "execution_count": 689,
   "metadata": {},
   "outputs": [],
   "source": [
    "# Item ID\n",
    "# grouping by Item ID and counting the number of each IDs \n",
    "top5_items_ID = pd.DataFrame(purchase_df.groupby('Item ID')['Item ID'].count())\n",
    "#sort from high to low total purchase count\n",
    "top5_items_ID.sort_values('Item ID', ascending = False, inplace = True)\n",
    "top5_items_ID = top5_items_ID.iloc[0:6][:]\n"
   ]
  },
  {
   "cell_type": "code",
   "execution_count": 690,
   "metadata": {},
   "outputs": [],
   "source": [
    "# Item Name\n",
    "#find the total purchase value of each item\n",
    "top5_items_total = pd.DataFrame(purchase_df.groupby('Item ID')['Price'].sum())\n"
   ]
  },
  {
   "cell_type": "code",
   "execution_count": 691,
   "metadata": {
    "collapsed": true
   },
   "outputs": [],
   "source": [
    "#merge purcahse count and total purcahse value \n",
    "top5_items = pd.merge(top5_items_ID, top5_items_total, left_index = True, right_index = True)\n"
   ]
  },
  {
   "cell_type": "code",
   "execution_count": 692,
   "metadata": {},
   "outputs": [],
   "source": [
    "#drop duplicate items from original Df\n",
    "no_dup_items = purchase_df.drop_duplicates(['Item ID'], keep = 'last')\n"
   ]
  },
  {
   "cell_type": "code",
   "execution_count": 693,
   "metadata": {
    "collapsed": true
   },
   "outputs": [],
   "source": [
    "# merge to get the info from the top 6 using the no dup df\n",
    "top5_merge_ID = pd.merge(top5_items, no_dup_items, left_index = True, right_on = 'Item ID')\n",
    "#keep only neede columns\n",
    "top5_merge_ID = top5_merge_ID[['Item ID', 'Item Name', 'Item ID_x', 'Price_y', 'Price_x']]\n"
   ]
  },
  {
   "cell_type": "code",
   "execution_count": 694,
   "metadata": {},
   "outputs": [
    {
     "data": {
      "text/html": [
       "<style  type=\"text/css\" >\n",
       "</style>  \n",
       "<table id=\"T_2c5f273a_0fc2_11e8_b02c_a8667f3c136d\" > \n",
       "<thead>    <tr> \n",
       "        <th class=\"blank level0\" ></th> \n",
       "        <th class=\"col_heading level0 col0\" >Item Name</th> \n",
       "        <th class=\"col_heading level0 col1\" >Purchase Count</th> \n",
       "        <th class=\"col_heading level0 col2\" >Item Price</th> \n",
       "        <th class=\"col_heading level0 col3\" >Total Purchase Value</th> \n",
       "    </tr>    <tr> \n",
       "        <th class=\"index_name level0\" >Item ID</th> \n",
       "        <th class=\"blank\" ></th> \n",
       "        <th class=\"blank\" ></th> \n",
       "        <th class=\"blank\" ></th> \n",
       "        <th class=\"blank\" ></th> \n",
       "    </tr></thead> \n",
       "<tbody>    <tr> \n",
       "        <th id=\"T_2c5f273a_0fc2_11e8_b02c_a8667f3c136dlevel0_row0\" class=\"row_heading level0 row0\" >39</th> \n",
       "        <td id=\"T_2c5f273a_0fc2_11e8_b02c_a8667f3c136drow0_col0\" class=\"data row0 col0\" >Betrayal, Whisper of Grieving Widows</td> \n",
       "        <td id=\"T_2c5f273a_0fc2_11e8_b02c_a8667f3c136drow0_col1\" class=\"data row0 col1\" >11</td> \n",
       "        <td id=\"T_2c5f273a_0fc2_11e8_b02c_a8667f3c136drow0_col2\" class=\"data row0 col2\" >$2.35</td> \n",
       "        <td id=\"T_2c5f273a_0fc2_11e8_b02c_a8667f3c136drow0_col3\" class=\"data row0 col3\" >$25.85</td> \n",
       "    </tr>    <tr> \n",
       "        <th id=\"T_2c5f273a_0fc2_11e8_b02c_a8667f3c136dlevel0_row1\" class=\"row_heading level0 row1\" >84</th> \n",
       "        <td id=\"T_2c5f273a_0fc2_11e8_b02c_a8667f3c136drow1_col0\" class=\"data row1 col0\" >Arcane Gem</td> \n",
       "        <td id=\"T_2c5f273a_0fc2_11e8_b02c_a8667f3c136drow1_col1\" class=\"data row1 col1\" >11</td> \n",
       "        <td id=\"T_2c5f273a_0fc2_11e8_b02c_a8667f3c136drow1_col2\" class=\"data row1 col2\" >$2.23</td> \n",
       "        <td id=\"T_2c5f273a_0fc2_11e8_b02c_a8667f3c136drow1_col3\" class=\"data row1 col3\" >$24.53</td> \n",
       "    </tr>    <tr> \n",
       "        <th id=\"T_2c5f273a_0fc2_11e8_b02c_a8667f3c136dlevel0_row2\" class=\"row_heading level0 row2\" >31</th> \n",
       "        <td id=\"T_2c5f273a_0fc2_11e8_b02c_a8667f3c136drow2_col0\" class=\"data row2 col0\" >Trickster</td> \n",
       "        <td id=\"T_2c5f273a_0fc2_11e8_b02c_a8667f3c136drow2_col1\" class=\"data row2 col1\" >9</td> \n",
       "        <td id=\"T_2c5f273a_0fc2_11e8_b02c_a8667f3c136drow2_col2\" class=\"data row2 col2\" >$2.07</td> \n",
       "        <td id=\"T_2c5f273a_0fc2_11e8_b02c_a8667f3c136drow2_col3\" class=\"data row2 col3\" >$18.63</td> \n",
       "    </tr>    <tr> \n",
       "        <th id=\"T_2c5f273a_0fc2_11e8_b02c_a8667f3c136dlevel0_row3\" class=\"row_heading level0 row3\" >175</th> \n",
       "        <td id=\"T_2c5f273a_0fc2_11e8_b02c_a8667f3c136drow3_col0\" class=\"data row3 col0\" >Woeful Adamantite Claymore</td> \n",
       "        <td id=\"T_2c5f273a_0fc2_11e8_b02c_a8667f3c136drow3_col1\" class=\"data row3 col1\" >9</td> \n",
       "        <td id=\"T_2c5f273a_0fc2_11e8_b02c_a8667f3c136drow3_col2\" class=\"data row3 col2\" >$1.24</td> \n",
       "        <td id=\"T_2c5f273a_0fc2_11e8_b02c_a8667f3c136drow3_col3\" class=\"data row3 col3\" >$11.16</td> \n",
       "    </tr>    <tr> \n",
       "        <th id=\"T_2c5f273a_0fc2_11e8_b02c_a8667f3c136dlevel0_row4\" class=\"row_heading level0 row4\" >13</th> \n",
       "        <td id=\"T_2c5f273a_0fc2_11e8_b02c_a8667f3c136drow4_col0\" class=\"data row4 col0\" >Serenity</td> \n",
       "        <td id=\"T_2c5f273a_0fc2_11e8_b02c_a8667f3c136drow4_col1\" class=\"data row4 col1\" >9</td> \n",
       "        <td id=\"T_2c5f273a_0fc2_11e8_b02c_a8667f3c136drow4_col2\" class=\"data row4 col2\" >$1.49</td> \n",
       "        <td id=\"T_2c5f273a_0fc2_11e8_b02c_a8667f3c136drow4_col3\" class=\"data row4 col3\" >$13.41</td> \n",
       "    </tr>    <tr> \n",
       "        <th id=\"T_2c5f273a_0fc2_11e8_b02c_a8667f3c136dlevel0_row5\" class=\"row_heading level0 row5\" >34</th> \n",
       "        <td id=\"T_2c5f273a_0fc2_11e8_b02c_a8667f3c136drow5_col0\" class=\"data row5 col0\" >Retribution Axe</td> \n",
       "        <td id=\"T_2c5f273a_0fc2_11e8_b02c_a8667f3c136drow5_col1\" class=\"data row5 col1\" >9</td> \n",
       "        <td id=\"T_2c5f273a_0fc2_11e8_b02c_a8667f3c136drow5_col2\" class=\"data row5 col2\" >$4.14</td> \n",
       "        <td id=\"T_2c5f273a_0fc2_11e8_b02c_a8667f3c136drow5_col3\" class=\"data row5 col3\" >$37.26</td> \n",
       "    </tr></tbody> \n",
       "</table> "
      ],
      "text/plain": [
       "<pandas.io.formats.style.Styler at 0x10a89e358>"
      ]
     },
     "execution_count": 694,
     "metadata": {},
     "output_type": "execute_result"
    }
   ],
   "source": [
    "#reset index as item ID \n",
    "top5_merge_ID.set_index(['Item ID'], inplace = True)\n",
    "# rename columns\n",
    "top5_merge_ID.rename(columns =  {'Item ID_x': 'Purchase Count', 'Price_y': 'Item Price', 'Price_x': 'Total Purchase Value'}, inplace=True)\n",
    "#format\n",
    "top5_merge_ID.style.format({'Item Price': '${:.2f}', 'Total Purchase Value': '${:.2f}'})"
   ]
  },
  {
   "cell_type": "markdown",
   "metadata": {},
   "source": [
    "### Most Profitable Items ###"
   ]
  },
  {
   "cell_type": "code",
   "execution_count": 695,
   "metadata": {
    "collapsed": true
   },
   "outputs": [],
   "source": [
    "# Most Profitable Items\n",
    "\n",
    "# Identify the 5 most profitable items by total purchase value, then list (in a table):\n",
    "# Item ID\n",
    "# Item Name\n",
    "# Purchase Count\n",
    "# Item Price\n",
    "# Total Purchase Value"
   ]
  },
  {
   "cell_type": "code",
   "execution_count": 696,
   "metadata": {},
   "outputs": [],
   "source": [
    "# Identify the 5 most profitable items by total purchase value, then list (in a table):\n",
    "\n",
    "# find total purcahse value and sort by decending order\n",
    "top5_profit = pd.DataFrame(purchase_df.groupby('Item ID')['Price'].sum())\n",
    "top5_profit.sort_values('Price', ascending = False, inplace = True)\n",
    "# Top 5\n",
    "top5_profit = top5_profit.iloc[0:5][:]\n"
   ]
  },
  {
   "cell_type": "code",
   "execution_count": 697,
   "metadata": {},
   "outputs": [],
   "source": [
    "#Item purchase count\n",
    "pur_count_profit = pd.DataFrame(purchase_df.groupby('Item ID')['Item ID'].count())\n"
   ]
  },
  {
   "cell_type": "code",
   "execution_count": 698,
   "metadata": {
    "collapsed": true
   },
   "outputs": [],
   "source": [
    "#Merging\n",
    "top5_profit = pd.merge(top5_profit, pur_count_profit, left_index = True, right_index = True, how = 'left')\n",
    "top5_merge_profit = pd.merge(top5_profit, no_dup_items, left_index = True, right_on = 'Item ID', how = 'left')\n",
    "top5_merge_profit = top5_merge_profit[['Item ID', 'Item Name', 'Item ID_x', 'Price_y','Price_x']]\n"
   ]
  },
  {
   "cell_type": "code",
   "execution_count": 699,
   "metadata": {},
   "outputs": [
    {
     "data": {
      "text/html": [
       "<style  type=\"text/css\" >\n",
       "</style>  \n",
       "<table id=\"T_2c7f55d4_0fc2_11e8_a825_a8667f3c136d\" > \n",
       "<thead>    <tr> \n",
       "        <th class=\"blank level0\" ></th> \n",
       "        <th class=\"col_heading level0 col0\" >Item ID</th> \n",
       "        <th class=\"col_heading level0 col1\" >Item Name</th> \n",
       "        <th class=\"col_heading level0 col2\" >Purchase Count</th> \n",
       "        <th class=\"col_heading level0 col3\" >Item Price</th> \n",
       "        <th class=\"col_heading level0 col4\" >Total Purchase Value</th> \n",
       "    </tr></thead> \n",
       "<tbody>    <tr> \n",
       "        <th id=\"T_2c7f55d4_0fc2_11e8_a825_a8667f3c136dlevel0_row0\" class=\"row_heading level0 row0\" >746</th> \n",
       "        <td id=\"T_2c7f55d4_0fc2_11e8_a825_a8667f3c136drow0_col0\" class=\"data row0 col0\" >34</td> \n",
       "        <td id=\"T_2c7f55d4_0fc2_11e8_a825_a8667f3c136drow0_col1\" class=\"data row0 col1\" >Retribution Axe</td> \n",
       "        <td id=\"T_2c7f55d4_0fc2_11e8_a825_a8667f3c136drow0_col2\" class=\"data row0 col2\" >9</td> \n",
       "        <td id=\"T_2c7f55d4_0fc2_11e8_a825_a8667f3c136drow0_col3\" class=\"data row0 col3\" >$4.14</td> \n",
       "        <td id=\"T_2c7f55d4_0fc2_11e8_a825_a8667f3c136drow0_col4\" class=\"data row0 col4\" >$37.26</td> \n",
       "    </tr>    <tr> \n",
       "        <th id=\"T_2c7f55d4_0fc2_11e8_a825_a8667f3c136dlevel0_row1\" class=\"row_heading level0 row1\" >705</th> \n",
       "        <td id=\"T_2c7f55d4_0fc2_11e8_a825_a8667f3c136drow1_col0\" class=\"data row1 col0\" >115</td> \n",
       "        <td id=\"T_2c7f55d4_0fc2_11e8_a825_a8667f3c136drow1_col1\" class=\"data row1 col1\" >Spectral Diamond Doomblade</td> \n",
       "        <td id=\"T_2c7f55d4_0fc2_11e8_a825_a8667f3c136drow1_col2\" class=\"data row1 col2\" >7</td> \n",
       "        <td id=\"T_2c7f55d4_0fc2_11e8_a825_a8667f3c136drow1_col3\" class=\"data row1 col3\" >$4.25</td> \n",
       "        <td id=\"T_2c7f55d4_0fc2_11e8_a825_a8667f3c136drow1_col4\" class=\"data row1 col4\" >$29.75</td> \n",
       "    </tr>    <tr> \n",
       "        <th id=\"T_2c7f55d4_0fc2_11e8_a825_a8667f3c136dlevel0_row2\" class=\"row_heading level0 row2\" >657</th> \n",
       "        <td id=\"T_2c7f55d4_0fc2_11e8_a825_a8667f3c136drow2_col0\" class=\"data row2 col0\" >32</td> \n",
       "        <td id=\"T_2c7f55d4_0fc2_11e8_a825_a8667f3c136drow2_col1\" class=\"data row2 col1\" >Orenmir</td> \n",
       "        <td id=\"T_2c7f55d4_0fc2_11e8_a825_a8667f3c136drow2_col2\" class=\"data row2 col2\" >6</td> \n",
       "        <td id=\"T_2c7f55d4_0fc2_11e8_a825_a8667f3c136drow2_col3\" class=\"data row2 col3\" >$4.95</td> \n",
       "        <td id=\"T_2c7f55d4_0fc2_11e8_a825_a8667f3c136drow2_col4\" class=\"data row2 col4\" >$29.70</td> \n",
       "    </tr>    <tr> \n",
       "        <th id=\"T_2c7f55d4_0fc2_11e8_a825_a8667f3c136dlevel0_row3\" class=\"row_heading level0 row3\" >716</th> \n",
       "        <td id=\"T_2c7f55d4_0fc2_11e8_a825_a8667f3c136drow3_col0\" class=\"data row3 col0\" >103</td> \n",
       "        <td id=\"T_2c7f55d4_0fc2_11e8_a825_a8667f3c136drow3_col1\" class=\"data row3 col1\" >Singed Scalpel</td> \n",
       "        <td id=\"T_2c7f55d4_0fc2_11e8_a825_a8667f3c136drow3_col2\" class=\"data row3 col2\" >6</td> \n",
       "        <td id=\"T_2c7f55d4_0fc2_11e8_a825_a8667f3c136drow3_col3\" class=\"data row3 col3\" >$4.87</td> \n",
       "        <td id=\"T_2c7f55d4_0fc2_11e8_a825_a8667f3c136drow3_col4\" class=\"data row3 col4\" >$29.22</td> \n",
       "    </tr>    <tr> \n",
       "        <th id=\"T_2c7f55d4_0fc2_11e8_a825_a8667f3c136dlevel0_row4\" class=\"row_heading level0 row4\" >779</th> \n",
       "        <td id=\"T_2c7f55d4_0fc2_11e8_a825_a8667f3c136drow4_col0\" class=\"data row4 col0\" >107</td> \n",
       "        <td id=\"T_2c7f55d4_0fc2_11e8_a825_a8667f3c136drow4_col1\" class=\"data row4 col1\" >Splitter, Foe Of Subtlety</td> \n",
       "        <td id=\"T_2c7f55d4_0fc2_11e8_a825_a8667f3c136drow4_col2\" class=\"data row4 col2\" >8</td> \n",
       "        <td id=\"T_2c7f55d4_0fc2_11e8_a825_a8667f3c136drow4_col3\" class=\"data row4 col3\" >$3.61</td> \n",
       "        <td id=\"T_2c7f55d4_0fc2_11e8_a825_a8667f3c136drow4_col4\" class=\"data row4 col4\" >$28.88</td> \n",
       "    </tr></tbody> \n",
       "</table> "
      ],
      "text/plain": [
       "<pandas.io.formats.style.Styler at 0x10a8de4e0>"
      ]
     },
     "execution_count": 699,
     "metadata": {},
     "output_type": "execute_result"
    }
   ],
   "source": [
    "#setting indes at Item IDtop5_merge_profit.set_index(['Item ID'], inplace=True)\n",
    "top5_merge_profit.rename(columns = {'Item ID_x': 'Purchase Count', 'Price_y': 'Item Price', 'Price_x': 'Total Purchase Value'}, inplace = True)\n",
    "\n",
    "#Styling and formating\n",
    "top5_merge_profit.style.format({'Item Price': '${:.2f}', 'Total Purchase Value': '${:.2f}'})"
   ]
  },
  {
   "cell_type": "code",
   "execution_count": null,
   "metadata": {
    "collapsed": true
   },
   "outputs": [],
   "source": []
  }
 ],
 "metadata": {
  "kernelspec": {
   "display_name": "Python 3",
   "language": "python",
   "name": "python3"
  },
  "language_info": {
   "codemirror_mode": {
    "name": "ipython",
    "version": 3
   },
   "file_extension": ".py",
   "mimetype": "text/x-python",
   "name": "python",
   "nbconvert_exporter": "python",
   "pygments_lexer": "ipython3",
   "version": "3.6.2"
  }
 },
 "nbformat": 4,
 "nbformat_minor": 2
}
